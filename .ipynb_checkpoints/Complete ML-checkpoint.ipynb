{
 "cells": [
  {
   "cell_type": "markdown",
   "id": "f70e72a2-a0b8-4d97-b0ea-f74c4f1f2a07",
   "metadata": {},
   "source": [
    "# **Complete Machine Learning Notes**"
   ]
  },
  {
   "cell_type": "markdown",
   "id": "da0beb35-c535-418f-95a0-6571749e71a1",
   "metadata": {},
   "source": [
    "# ✅ **AI vs ML vs DL vs DS**\n",
    "\n",
    "---\n",
    "\n",
    "## Artificial Intelligence (AI)\n",
    "\n",
    "- AI = Machines that can **think, learn, and make decisions** like humans\n",
    "- Goal: Build **smart systems** that can simulate intelligence\n",
    "\n",
    "**Examples:**  \n",
    "- Chatbots, Self-driving cars, Siri, Game bots\n",
    "\n",
    "---\n",
    "\n",
    "## Machine Learning (ML)\n",
    "\n",
    "- ML = Subfield of AI where machines **learn from data**  \n",
    "- Learns patterns from past data and **makes predictions**\n",
    "\n",
    "---\n",
    "\n",
    "## Deep Learning (DL)\n",
    "\n",
    "- DL = Subset of ML using **neural networks** with many layers\n",
    "- Mimic human brains.\n",
    "- Best for large, complex data like **images, speech, text**\n",
    "\n",
    "---\n",
    "\n",
    "## Data Science (DS)\n",
    "\n",
    "- DS = Field that uses **data + tools + math + storytelling**\n",
    "- Combines AI, ML, stats, and domain knowledge to extract insights.\n",
    "\n",
    "---"
   ]
  },
  {
   "cell_type": "markdown",
   "id": "5a0657a1-6000-48c8-8807-de3be3b8e2ed",
   "metadata": {},
   "source": [
    "# ✅ **Types of Machine Learning (ML)**\n",
    "\n",
    "---\n",
    "\n",
    "## 1. Supervised Learning\n",
    "\n",
    "- Uses **labeled data** (input + correct output)\n",
    "- The model learns to **map inputs to outputs**\n",
    "\n",
    "**Goal:** Predict outcomes on new, unseen data\n",
    "\n",
    "**Examples:**\n",
    "- Spam detection (Email → Spam or Not Spam)\n",
    "- House price prediction (Features → Price)\n",
    "\n",
    "**Algorithms:**\n",
    "\n",
    "- **Linear Regression** – Predict continuous values  \n",
    "- **Logistic Regression** – Binary classification (0 or 1)  \n",
    "- **Decision Tree** – Tree-based prediction  \n",
    "- **Random Forest** – Many decision trees (ensemble)  \n",
    "- **Support Vector Machine (SVM)** – Find best separating boundary  \n",
    "- **K-Nearest Neighbors (KNN)** – Based on closest points  \n",
    "- **Naive Bayes** – Based on probability (Bayes theorem)  \n",
    "- **Gradient Boosting** – Boosting weak models  \n",
    "- **XGBoost / LightGBM / CatBoost** – Fast gradient boosting models  \n",
    "- **Neural Networks** – For complex data (also used in DL)\n",
    "\n",
    "---\n",
    "\n",
    "## 2. Unsupervised Learning\n",
    "\n",
    "- Uses **unlabeled data** (only input, no output)\n",
    "- The model tries to **find patterns or structure**\n",
    "\n",
    "**Goal:** Group or organize data automatically\n",
    "\n",
    "**Examples:**\n",
    "- Customer segmentation  \n",
    "- Market basket analysis  \n",
    "- Anomaly detection\n",
    "\n",
    "**Algorithms:**\n",
    "\n",
    "- **K-Means Clustering** – Group similar data points  \n",
    "- **Hierarchical Clustering** – Tree-like cluster hierarchy  \n",
    "- **DBSCAN** – Density-based clustering  \n",
    "- **Principal Component Analysis (PCA)** – Dimensionality reduction  \n",
    "- **t-SNE** – Visualization of high-dimensional data  \n",
    "- **Autoencoders** – Neural network for feature learning  \n",
    "- **Apriori Algorithm** – Association rule learning  \n",
    "- **Gaussian Mixture Models (GMM)** – Probabilistic clustering  \n",
    "- **Isolation Forest** – Anomaly detection  \n",
    "- **Fuzzy C-Means** – Soft clustering (points can belong to multiple clusters)\n",
    "\n",
    "---\n",
    "\n",
    "## 3. Reinforcement Learning\n",
    "\n",
    "- The model **learns by interacting** with an environment\n",
    "- Learns from **reward or punishment** (trial and error)\n",
    "\n",
    "**Goal:** Maximize cumulative reward\n",
    "\n",
    "**Examples:**\n",
    "- Game playing (like chess, Atari)  \n",
    "- Robotics (walking, picking objects)  \n",
    "- Self-driving cars\n",
    "\n",
    "**Key Terms:**\n",
    "- **Agent**: the learner  \n",
    "- **Environment**: where it acts  \n",
    "- **Reward**: feedback for action  \n",
    "- **Policy**: strategy to choose actions\n",
    "\n",
    "---\n"
   ]
  },
  {
   "cell_type": "markdown",
   "id": "92c2f61f-9c46-4d99-b2dd-f6dde233d736",
   "metadata": {},
   "source": [
    "\n",
    "#  ✅**Linear Regression Algorithm** \n",
    "**Definition**: Predicts a continuous output by fitting a straight line.  \n",
    "**Formula**:  \n",
    "\\\\[\n",
    "y = mx+c\n",
    "\\\\]  \n",
    "\n",
    "Where,\n",
    "\n",
    "`m` = slope, `c` = bias(intercept), `x` = input\n",
    "\n",
    "**Example**: Predict house price from size.\n",
    "\n",
    "---"
   ]
  },
  {
   "cell_type": "markdown",
   "id": "504af489-567a-42e9-8caa-a2ddc708fd28",
   "metadata": {},
   "source": [
    "## Cost Function\n"
   ]
  },
  {
   "cell_type": "code",
   "execution_count": 4,
   "id": "8abfb08a-43a5-4678-aebf-6683a5e9901b",
   "metadata": {
    "jupyter": {
     "source_hidden": true
    },
    "scrolled": true
   },
   "outputs": [
    {
     "data": {
      "text/html": [
       "\n",
       "<div style=\"text-align: center;\">\n",
       "    <img src=\"Screenshots/1.png\" style=\"width: 500px;\"/>\n",
       "</div>\n"
      ],
      "text/plain": [
       "<IPython.core.display.HTML object>"
      ]
     },
     "metadata": {},
     "output_type": "display_data"
    }
   ],
   "source": [
    "from IPython.display import display, HTML\n",
    "\n",
    "display(HTML(\"\"\"\n",
    "<div style=\"text-align: center;\">\n",
    "    <img src=\"Screenshots/1.png\" style=\"width: 500px;\"/>\n",
    "</div>\n",
    "\"\"\"))\n"
   ]
  },
  {
   "cell_type": "markdown",
   "id": "9d4ad482-857f-4954-aa0e-8cc53f7deceb",
   "metadata": {},
   "source": [
    "---\n",
    "## MSE vs MAE vs RMSE"
   ]
  },
  {
   "cell_type": "code",
   "execution_count": 6,
   "id": "d8fa9c52-ca4e-4ab3-a550-1c0169d5771f",
   "metadata": {
    "jupyter": {
     "source_hidden": true
    }
   },
   "outputs": [
    {
     "data": {
      "text/html": [
       "\n",
       "<div style=\"display: flex; justify-content: center; gap: 20px;\">\n",
       "    <div>\n",
       "        <img src=\"Screenshots/MSE.png\" style=\"width: 500px;\"/><br>\n",
       "        <p style=\"text-align: center;\">MSE</p>\n",
       "    </div>\n",
       "    <div>\n",
       "        <img src=\"Screenshots/MAE.png\" style=\"width: 500px;\"/><br>\n",
       "        <p style=\"text-align: center;\">MAE</p>\n",
       "    </div>\n",
       "    <div>\n",
       "        <img src=\"Screenshots/RMSE.png\" style=\"width: 300px;\"/><br>\n",
       "        <p style=\"text-align: center;\">RMSE</p>\n",
       "    </div>\n",
       "</div>\n"
      ],
      "text/plain": [
       "<IPython.core.display.HTML object>"
      ]
     },
     "metadata": {},
     "output_type": "display_data"
    }
   ],
   "source": [
    "from IPython.display import display, HTML\n",
    "\n",
    "display(HTML(\"\"\"\n",
    "<div style=\"display: flex; justify-content: center; gap: 20px;\">\n",
    "    <div>\n",
    "        <img src=\"Screenshots/MSE.png\" style=\"width: 500px;\"/><br>\n",
    "        <p style=\"text-align: center;\">MSE</p>\n",
    "    </div>\n",
    "    <div>\n",
    "        <img src=\"Screenshots/MAE.png\" style=\"width: 500px;\"/><br>\n",
    "        <p style=\"text-align: center;\">MAE</p>\n",
    "    </div>\n",
    "    <div>\n",
    "        <img src=\"Screenshots/RMSE.png\" style=\"width: 300px;\"/><br>\n",
    "        <p style=\"text-align: center;\">RMSE</p>\n",
    "    </div>\n",
    "</div>\n",
    "\"\"\"))\n"
   ]
  },
  {
   "cell_type": "markdown",
   "id": "6ef221b8-2cd7-43fa-a8f5-362bc96e99ef",
   "metadata": {},
   "source": [
    "---\n",
    "## Gradient Descent"
   ]
  },
  {
   "cell_type": "code",
   "execution_count": 8,
   "id": "11302340-342e-44a8-a42b-4a81d849b320",
   "metadata": {
    "jupyter": {
     "source_hidden": true
    }
   },
   "outputs": [
    {
     "data": {
      "text/html": [
       "\n",
       "<div style=\"text-align: center;\">\n",
       "    <img src=\"Screenshots/2.png\" style=\"width: 500px;\"/>\n",
       "</div>\n"
      ],
      "text/plain": [
       "<IPython.core.display.HTML object>"
      ]
     },
     "metadata": {},
     "output_type": "display_data"
    }
   ],
   "source": [
    "from IPython.display import display, HTML\n",
    "display(HTML(\"\"\"\n",
    "<div style=\"text-align: center;\">\n",
    "    <img src=\"Screenshots/2.png\" style=\"width: 500px;\"/>\n",
    "</div>\n",
    "\"\"\"))"
   ]
  },
  {
   "cell_type": "markdown",
   "id": "a6139ba0-58ff-4944-bb30-5bdeb547eeb0",
   "metadata": {},
   "source": [
    "---\n",
    "## Convergence Algorithm\n",
    "\n",
    "**Definition**: WThe point at which the cost function stops decreasing significantly, meaning the model has found a good solution (or minimum).\n",
    "\n",
    "**How to know**:\n",
    "Plot cost vs iterations → curve flattens.\n",
    "\n",
    "Cost change < threshold (e.g., 0.0001).\n"
   ]
  },
  {
   "cell_type": "code",
   "execution_count": 7,
   "id": "687fb6a3-b4a2-4eef-a9f5-b76436166313",
   "metadata": {
    "jupyter": {
     "source_hidden": true
    }
   },
   "outputs": [
    {
     "data": {
      "text/html": [
       "\n",
       "<div style=\"text-align: center;\">\n",
       "    <img src=\"Screenshots/3.png\" style=\"width: 600px;\"/>\n",
       "</div>\n"
      ],
      "text/plain": [
       "<IPython.core.display.HTML object>"
      ]
     },
     "metadata": {},
     "output_type": "display_data"
    }
   ],
   "source": [
    "from IPython.display import display, HTML\n",
    "display(HTML(\"\"\"\n",
    "<div style=\"text-align: center;\">\n",
    "    <img src=\"Screenshots/3.png\" style=\"width: 600px;\"/>\n",
    "</div>\n",
    "\"\"\"))"
   ]
  },
  {
   "cell_type": "markdown",
   "id": "9b1be848-d322-438d-b3c2-d3251d7781e1",
   "metadata": {},
   "source": [
    "---\n",
    "## Learning Rate (α)  \n",
    "**Definition**: Controls how big the steps are during gradient descent updates.\n",
    "\n",
    "- Too small → slow convergence. \n",
    "- Too large → may overshoot and never converge.\n",
    "---"
   ]
  },
  {
   "cell_type": "markdown",
   "id": "355935f6-590c-40f2-b87a-826460df3688",
   "metadata": {},
   "source": [
    "## Final Note for Linear Regression"
   ]
  },
  {
   "cell_type": "code",
   "execution_count": 12,
   "id": "464b7d1d-5e0c-4937-af59-6696cfc34273",
   "metadata": {
    "jupyter": {
     "source_hidden": true
    }
   },
   "outputs": [
    {
     "data": {
      "text/html": [
       "\n",
       "<div style=\"text-align: center;\">\n",
       "    <img src=\"Screenshots/4.png\" style=\"width: 500px;\"/>\n",
       "</div>\n"
      ],
      "text/plain": [
       "<IPython.core.display.HTML object>"
      ]
     },
     "metadata": {},
     "output_type": "display_data"
    }
   ],
   "source": [
    "from IPython.display import display, HTML\n",
    "display(HTML(\"\"\"\n",
    "<div style=\"text-align: center;\">\n",
    "    <img src=\"Screenshots/4.png\" style=\"width: 500px;\"/>\n",
    "</div>\n",
    "\"\"\"))"
   ]
  },
  {
   "cell_type": "markdown",
   "id": "828a41d6-79b3-4c8f-95c2-a147cbbc3bd1",
   "metadata": {},
   "source": [
    "---\n",
    "#  ✅ **R-squared vs Adjusted R-squared**\n",
    "\n",
    "---\n",
    "\n",
    "### R² (Coefficient of Determination)\n",
    "\n",
    "**Definition**: Measures how much of the variation in the dependent variable is explained by the model.\n",
    "\n",
    "**Formula**:  \n",
    "\\\\[\n",
    "R^2 = 1 - {SS_{res}}/{SS_{tot}}\n",
    "\\\\]\n",
    "\n",
    "Where:  \n",
    "- \\\\( SS_{res} = \\\\sum (y_i - \\\\hat{y}_i)^2 \\\\)  → Residual Sum of Squares\n",
    "- \\\\( SS_{tot} = \\\\sum (y_i - \\\\bar{y})^2 \\\\)  → Total Sum of Squares\n",
    "\n",
    "**Interpretation**:  \n",
    "- R² = 0 → Explains 0% variance  \n",
    "- R² = 1 → Explains 100% variance  \n",
    "- R² = 0.85 → Explains 85% variance\n",
    "\n",
    "---\n",
    "\n",
    "### Adjusted R²\n",
    "\n",
    "**Definition**: Adjusted version of R² that **penalizes irrelevant features**.\n",
    "\n",
    "**Formula**:  \n",
    "\\\\[\n",
    "\\\\ Adjusted R^2 = 1 -{(1 - R^2)/(n - 1)}/({n - k - 1})\n",
    "\\\\]\n",
    "\n",
    "Where:  \n",
    "- \\\\( n \\\\): number of samples  \n",
    "- \\\\( k \\\\): number of features\n",
    "\n",
    "---\n"
   ]
  },
  {
   "cell_type": "markdown",
   "id": "04b50847-38e8-49b2-97cb-19585849e98a",
   "metadata": {},
   "source": [
    "# ✅  **Bias, Variance, Overfitting, Underfitting**\n",
    "\n",
    "---\n",
    "\n",
    "## Bias\n",
    "- Error due to **simplistic assumptions**\n",
    "- Model is **too simple**, misses patterns\n",
    "- Wrong method (always off target)\n",
    "- Leads to **underfitting**\n",
    "- Bias means we are talking about training data.(consider this concept when checking for error in training data)\n",
    "\n",
    "---\n",
    "\n",
    "## Variance\n",
    "- Error due to **too much sensitivity** to training data\n",
    "- Model is **too complex**, learns noise\n",
    "- Inconsistent shots (random)\n",
    "- Leads to **overfitting**\n",
    "- Variance means we are talking about testing data.(consider this concept when checking for error in testing data)\n",
    "\n",
    "\n",
    "---\n",
    "\n",
    "## Underfitting\n",
    "- Model performs poorly on training **and** test data\n",
    "- Caused by **high bias**\n",
    "\n",
    "---\n",
    "\n",
    "## Overfitting\n",
    "- Model performs well on training but poorly on test data\n",
    "- Caused by **high variance**\n",
    "\n",
    "---\n",
    "\n",
    "## Bias-Variance Trade-off\n",
    "\n",
    "| Model Type     | Bias      | Variance   |\n",
    "|----------------|-----------|------------|\n",
    "|  Underfitting  | High      | Low        |\n",
    "| Overfitting    | Low       | High       |\n",
    "| Just Right     | Low       | Low        |\n",
    "\n",
    "---"
   ]
  },
  {
   "cell_type": "markdown",
   "id": "3065566e-73aa-4b61-9b34-840e539101f6",
   "metadata": {},
   "source": [
    "# ✅ **Confusion Matrix**\n",
    "\n",
    "A confusion matrix shows how well the classification model is performing.\n",
    "\n",
    "For **binary classification**:\n",
    "\n",
    "|               | Predicted Positive | Predicted Negative |\n",
    "|---------------|--------------------|--------------------|\n",
    "| Actual Positive | True Positive (TP)  | False Negative (FN) |\n",
    "| Actual Negative | False Positive (FP) | True Negative (TN)  |\n",
    "\n",
    "---\n",
    "\n",
    "# ✅ **Performance Metrics**\n"
   ]
  },
  {
   "cell_type": "code",
   "execution_count": 13,
   "id": "9e91df87-72d2-4918-af44-32f23cb3e9df",
   "metadata": {
    "jupyter": {
     "source_hidden": true
    }
   },
   "outputs": [
    {
     "data": {
      "text/html": [
       "\n",
       "<div style=\"display: flex; justify-content: center; gap: 20px;\">\n",
       "    <div>\n",
       "        <img src=\"Screenshots/Accuracy.png\" style=\"width: 600px;\"/><br>\n",
       "    </div>\n",
       "    <div>\n",
       "        <img src=\"Screenshots/Precision.png\" style=\"width: 600px;\"/><br>\n",
       "    </div>\n",
       "</div>\n"
      ],
      "text/plain": [
       "<IPython.core.display.HTML object>"
      ]
     },
     "metadata": {},
     "output_type": "display_data"
    }
   ],
   "source": [
    "from IPython.display import display, HTML\n",
    "\n",
    "display(HTML(\"\"\"\n",
    "<div style=\"display: flex; justify-content: center; gap: 20px;\">\n",
    "    <div>\n",
    "        <img src=\"Screenshots/Accuracy.png\" style=\"width: 600px;\"/><br>\n",
    "    </div>\n",
    "    <div>\n",
    "        <img src=\"Screenshots/Precision.png\" style=\"width: 600px;\"/><br>\n",
    "    </div>\n",
    "</div>\n",
    "\"\"\"))\n"
   ]
  },
  {
   "cell_type": "code",
   "execution_count": 14,
   "id": "6b27eb56-7912-4274-bc61-54ff0bdbef23",
   "metadata": {
    "jupyter": {
     "source_hidden": true
    }
   },
   "outputs": [
    {
     "data": {
      "text/html": [
       "\n",
       "<div style=\"display: flex; justify-content: center; gap: 20px;\">\n",
       "    <div>\n",
       "        <img src=\"Screenshots/Recall.png\" style=\"width: 600px;\"/><br>\n",
       "    </div>\n",
       "    <div>\n",
       "        <img src=\"Screenshots/F1 Score.png\" style=\"width: 600px;\"/><br>\n",
       "    </div>\n",
       "</div>\n"
      ],
      "text/plain": [
       "<IPython.core.display.HTML object>"
      ]
     },
     "metadata": {},
     "output_type": "display_data"
    }
   ],
   "source": [
    "from IPython.display import display, HTML\n",
    "display(HTML(\"\"\"\n",
    "<div style=\"display: flex; justify-content: center; gap: 20px;\">\n",
    "    <div>\n",
    "        <img src=\"Screenshots/Recall.png\" style=\"width: 600px;\"/><br>\n",
    "    </div>\n",
    "    <div>\n",
    "        <img src=\"Screenshots/F1 Score.png\" style=\"width: 600px;\"/><br>\n",
    "    </div>\n",
    "</div>\n",
    "\"\"\"))"
   ]
  },
  {
   "cell_type": "code",
   "execution_count": 15,
   "id": "bf4bc090-884e-4828-bb9c-9d972dc7e9d1",
   "metadata": {
    "jupyter": {
     "source_hidden": true
    }
   },
   "outputs": [
    {
     "data": {
      "text/html": [
       "\n",
       "<div style=\"display: flex; justify-content: center; gap: 20px;\">\n",
       "    <div>\n",
       "        <img src=\"Screenshots/ROC.png\" style=\"width: 600px;\"/><br>\n",
       "    </div>\n",
       "    <div>\n",
       "        <img src=\"Screenshots/AUC.png\" style=\"width: 600px;\"/><br>\n",
       "    </div>\n",
       "</div>\n"
      ],
      "text/plain": [
       "<IPython.core.display.HTML object>"
      ]
     },
     "metadata": {},
     "output_type": "display_data"
    }
   ],
   "source": [
    "from IPython.display import display, HTML\n",
    "display(HTML(\"\"\"\n",
    "<div style=\"display: flex; justify-content: center; gap: 20px;\">\n",
    "    <div>\n",
    "        <img src=\"Screenshots/ROC.png\" style=\"width: 600px;\"/><br>\n",
    "    </div>\n",
    "    <div>\n",
    "        <img src=\"Screenshots/AUC.png\" style=\"width: 600px;\"/><br>\n",
    "    </div>\n",
    "</div>\n",
    "\"\"\"))"
   ]
  },
  {
   "cell_type": "markdown",
   "id": "bcb48876-c04a-4a31-9aff-2d7ab391643f",
   "metadata": {},
   "source": [
    "- **ROC Curve**: Plot of TPR=Recall(y-axis) vs FPR(x-axis) at all thresholds\n",
    "- **AUC**: A single number summary of ROC\n",
    "---"
   ]
  },
  {
   "cell_type": "markdown",
   "id": "a7113e7e-6926-4598-b47c-03a5a85c2f70",
   "metadata": {},
   "source": [
    "# ✅ **Training, Validation and Testing Data**\n",
    "\n",
    "## Training Data\n",
    "- Used to **teach** the model.\n",
    "- The model **learns patterns** from this data.\n",
    "\n",
    "## Testing Data\n",
    "- Used to **evaluate** the model **after training**.\n",
    "- Helps check how well the model performs on **unseen data**.\n",
    "\n",
    "## Validation Data\n",
    "- Used during training to **tune parameters** (like choosing the best model settings).\n",
    "- Helps prevent **overfitting**.\n",
    "  \n",
    "---"
   ]
  },
  {
   "cell_type": "markdown",
   "id": "a96af48d-355d-46ba-9c9a-ebb7be9a2c0b",
   "metadata": {},
   "source": [
    "# ✅ **Cross-Validation (CV)**\n",
    "\n",
    "- **Cross-validation** is a technique used to **evaluate the performance** of a machine learning model by splitting the data into multiple parts and testing the model on different subsets.\n",
    "- It helps ensure the model **generalizes well** to unseen data and avoids overfitting.\n",
    "\n",
    "---\n",
    "\n",
    "## Types of Cross-Validation\n",
    "\n",
    "### 1. K-Fold Cross-Validation\n",
    "- Split data into **K equal parts** (folds)\n",
    "- Train on K-1 folds, test on the remaining fold\n",
    "- Repeat K times and average the results\n",
    "\n",
    "### 2. Stratified K-Fold\n",
    "- Like K-Fold but **preserves class distribution** in each fold (useful for classification)\n",
    "\n",
    "### 3. Leave-One-Out (LOO)\n",
    "- Each sample is used once as a test set, rest as training\n",
    "- Very accurate but **computationally expensive**\n",
    "\n",
    "### 4. Hold-Out Validation\n",
    "- Simple split into **train and test** sets (e.g., 80/20)\n",
    "- Fast but may not be as reliable\n",
    "  \n",
    "### 5. Time Series Split\n",
    "- Used for **time-dependent data**\n",
    "- Ensures training data is always earlier than test data\n",
    "\n",
    "---\n",
    "\n",
    "## Summary Table\n",
    "\n",
    "| Type               | Description                                | Use Case                  |\n",
    "|--------------------|--------------------------------------------|---------------------------|\n",
    "| K-Fold             | Split into K parts, rotate test fold       | General-purpose           |\n",
    "| Stratified K-Fold  | K-Fold with class balance                  | Classification problems   |\n",
    "| Leave-One-Out      | One sample per test set                    | Small datasets            |\n",
    "| Hold-Out           | One-time train/test split                  | Quick evaluation          |\n",
    "| Time Series Split  | Respects time order                        | Time series forecasting   |\n"
   ]
  },
  {
   "cell_type": "markdown",
   "id": "3b440577-3f0e-4878-803a-9668e7a8a90c",
   "metadata": {},
   "source": [
    "---\n",
    "# ✅ **Ridge, Lasso and ELasticNet Regression Algorithms**\n",
    "\n",
    "### Why Linear Regression Fails:\n",
    "\n",
    "1. **Overfitting**: \n",
    "   - Tries to fit every detail including noise when many features exist.\n",
    "\n",
    "2. **Multicollinearity**: \n",
    "   - Highly correlated features cause **unstable** weights.\n",
    "\n",
    "3. **No Feature Selection**: \n",
    "   - Keeps **all features**, even irrelevant ones.\n",
    "\n",
    "---"
   ]
  },
  {
   "cell_type": "markdown",
   "id": "55c160b6-148b-44e1-a1a4-9ecdce4ac20b",
   "metadata": {},
   "source": [
    "\n",
    "\n",
    "## **Ridge Regression (L2 Regularization)**\n",
    "\n",
    "### Formula:\n",
    "\n",
    "$$\n",
    "J(w) = \\text{MSE} + \\lambda \\sum w_i^2\n",
    "$$\n",
    "\n",
    "Where,\n",
    "\n",
    "wi = Slope\n",
    "\n",
    "### Meaning:\n",
    "\n",
    "- Adds a **penalty on the square of weights**.  \n",
    "- **Shrinks** large weights but **keeps all features**.  \n",
    "- Good for **reducing overfitting** when features are **correlated**.\n",
    "\n",
    "### Use when:\n",
    "\n",
    "- You want to **reduce model complexity** but not remove features.\n",
    "\n",
    "---\n",
    "\n",
    "## **Lasso Regression (L1 Regularization)**\n",
    "\n",
    "### Formula:\n",
    "\n",
    "$$\n",
    "J(w) = \\text{MSE} + \\lambda \\sum |w_i|\n",
    "$$\n",
    "                                   \n",
    "### Meaning:\n",
    "\n",
    "- Adds a **penalty on the absolute value of weights**.  \n",
    "- **Can make some weights zero** ➝ **feature selection**.  \n",
    "- Good for **sparse models** with **irrelevant features**.\n",
    "\n",
    "### Use when:\n",
    "\n",
    "- You want to **remove unnecessary features** from your model.\n",
    "\n",
    "---\n",
    "\n",
    "## **ElasticNet Regression (L1 + L2 Regularization)**\n",
    "\n",
    "### Formula:\n",
    "\n",
    "$$\n",
    "J(w) = \\text{MSE} + \\lambda_1 \\sum |w_i| + \\lambda_2 \\sum w_i^2\n",
    "$$\n",
    "\n",
    "### Where:\n",
    "- \\( \\lambda_1 \\): L1 (Lasso) penalty strength  \n",
    "- \\( \\lambda_2 \\): L2 (Ridge) penalty strength  \n",
    "- Combines **both L1 and L2 penalties**\n",
    "\n",
    "### Meaning:\n",
    "\n",
    "- Mixes benefits of **Lasso (feature selection)** and **Ridge (shrinkage)**  \n",
    "- Helps when:\n",
    "  - You have **many features**\n",
    "  - Some are **correlated**\n",
    "  - You also want **feature selection**\n",
    "\n",
    "### Use when:\n",
    "\n",
    "- You want a **balanced model** that can both **select features** and **handle multicollinearity**\n"
   ]
  },
  {
   "cell_type": "code",
   "execution_count": 17,
   "id": "b396e258-5a66-4a5b-a64d-b70468d468ac",
   "metadata": {
    "jupyter": {
     "source_hidden": true
    }
   },
   "outputs": [
    {
     "data": {
      "text/html": [
       "\n",
       "<div style=\"display: flex; justify-content: center; gap: 20px;\">\n",
       "    <div>\n",
       "        <img src=\"Screenshots/Ridge Regression.png\" style=\"width: 500px;\"/><br>\n",
       "        <p style=\"text-align: center;\">Ridge</p>\n",
       "    </div>\n",
       "    <div>\n",
       "        <img src=\"Screenshots/Lasso Regression.png\" style=\"width: 600px;\"/><br>\n",
       "        <p style=\"text-align: center;\">Lasso</p>\n",
       "    </div>\n",
       "    <div>\n",
       "        <img src=\"Screenshots/ElasticNet Regression.png\" style=\"width: 600px;\"/><br>\n",
       "        <p style=\"text-align: center;\">ElasticNet</p>\n",
       "    </div>\n",
       "</div>\n"
      ],
      "text/plain": [
       "<IPython.core.display.HTML object>"
      ]
     },
     "metadata": {},
     "output_type": "display_data"
    }
   ],
   "source": [
    "from IPython.display import display, HTML\n",
    "\n",
    "display(HTML(\"\"\"\n",
    "<div style=\"display: flex; justify-content: center; gap: 20px;\">\n",
    "    <div>\n",
    "        <img src=\"Screenshots/Ridge Regression.png\" style=\"width: 500px;\"/><br>\n",
    "        <p style=\"text-align: center;\">Ridge</p>\n",
    "    </div>\n",
    "    <div>\n",
    "        <img src=\"Screenshots/Lasso Regression.png\" style=\"width: 600px;\"/><br>\n",
    "        <p style=\"text-align: center;\">Lasso</p>\n",
    "    </div>\n",
    "    <div>\n",
    "        <img src=\"Screenshots/ElasticNet Regression.png\" style=\"width: 600px;\"/><br>\n",
    "        <p style=\"text-align: center;\">ElasticNet</p>\n",
    "    </div>\n",
    "</div>\n",
    "\"\"\"))\n"
   ]
  },
  {
   "cell_type": "markdown",
   "id": "52c6b882-f058-47cd-b882-3568557ce976",
   "metadata": {},
   "source": [
    "---\n",
    "# ✅ **Logistic Regression Algorithm**\n",
    "\n",
    "##  Why We Use It?\n",
    "\n",
    "- Used for classification, not regression (despite its name).\n",
    "- Predicts probability of class (e.g., spam/not spam, 0/1, yes/no).\n",
    "- Especially used for binary classification problems.\n",
    "- Use **One-vs-Rest (OvR)** or **Softmax function** for multi-class classification.\n",
    "---\n"
   ]
  },
  {
   "cell_type": "code",
   "execution_count": 18,
   "id": "d8854d0d-9a3d-4cc1-8dc3-97d5544b4acc",
   "metadata": {
    "jupyter": {
     "source_hidden": true
    }
   },
   "outputs": [
    {
     "data": {
      "text/html": [
       "\n",
       "<div style=\"display: flex; justify-content: center; gap: 20px;\">\n",
       "    <div>\n",
       "        <img src=\"Screenshots/LR1.png\" style=\"width: 600px;\"/><br>\n",
       "    </div>\n",
       "    \n",
       "</div>\n"
      ],
      "text/plain": [
       "<IPython.core.display.HTML object>"
      ]
     },
     "metadata": {},
     "output_type": "display_data"
    }
   ],
   "source": [
    "from IPython.display import display, HTML\n",
    "\n",
    "display(HTML(\"\"\"\n",
    "<div style=\"display: flex; justify-content: center; gap: 20px;\">\n",
    "    <div>\n",
    "        <img src=\"Screenshots/LR1.png\" style=\"width: 600px;\"/><br>\n",
    "    </div>\n",
    "    \n",
    "</div>\n",
    "\"\"\"))\n"
   ]
  },
  {
   "cell_type": "code",
   "execution_count": 19,
   "id": "a5782090-45d3-4b7a-b0f2-208c8cf4c3c7",
   "metadata": {
    "jupyter": {
     "source_hidden": true
    }
   },
   "outputs": [
    {
     "data": {
      "text/html": [
       "\n",
       "<div style=\"display: flex; justify-content: center; gap: 20px;\">\n",
       "    <div>\n",
       "        <img src=\"Screenshots/LR2.png\" style=\"width: 600px;\"/><br>\n",
       "    </div>\n",
       "    \n",
       "</div>\n"
      ],
      "text/plain": [
       "<IPython.core.display.HTML object>"
      ]
     },
     "metadata": {},
     "output_type": "display_data"
    }
   ],
   "source": [
    "from IPython.display import display, HTML\n",
    "\n",
    "display(HTML(\"\"\"\n",
    "<div style=\"display: flex; justify-content: center; gap: 20px;\">\n",
    "    <div>\n",
    "        <img src=\"Screenshots/LR2.png\" style=\"width: 600px;\"/><br>\n",
    "    </div>\n",
    "    \n",
    "</div>\n",
    "\"\"\"))\n"
   ]
  },
  {
   "cell_type": "code",
   "execution_count": 20,
   "id": "d66b02d2-9e22-422c-9206-191ff45af527",
   "metadata": {
    "jupyter": {
     "source_hidden": true
    }
   },
   "outputs": [
    {
     "data": {
      "text/html": [
       "\n",
       "<div style=\"display: flex; justify-content: center; gap: 20px;\">\n",
       "    <div>\n",
       "        <img src=\"Screenshots/LR3.png\" style=\"width: 600px;\"/><br>\n",
       "    </div>\n",
       "    \n",
       "</div>\n"
      ],
      "text/plain": [
       "<IPython.core.display.HTML object>"
      ]
     },
     "metadata": {},
     "output_type": "display_data"
    }
   ],
   "source": [
    "from IPython.display import display, HTML\n",
    "\n",
    "display(HTML(\"\"\"\n",
    "<div style=\"display: flex; justify-content: center; gap: 20px;\">\n",
    "    <div>\n",
    "        <img src=\"Screenshots/LR3.png\" style=\"width: 600px;\"/><br>\n",
    "    </div>\n",
    "    \n",
    "</div>\n",
    "\"\"\"))\n"
   ]
  },
  {
   "cell_type": "markdown",
   "id": "47e89ab4-5952-456c-939a-86d8ba19289e",
   "metadata": {},
   "source": [
    "---\n",
    "# ✅ **Convex vs Non-Convex Functions**\n",
    "\n",
    "---\n",
    "\n",
    "## Convex Function\n",
    "\n",
    "- Looks like a **U-shape (bowl)**  \n",
    "- Has **only one global minimum**  \n",
    "- Easy to optimize using gradient descent\n",
    "\n",
    "**Example:**  \n",
    "\n",
    "f(x) = x^2\n",
    "\n",
    "---\n",
    "\n",
    "## Non-Convex Function\n",
    "\n",
    "- Has **many hills and valleys**  \n",
    "- Has **multiple local minima**  \n",
    "- Gradient descent may get **stuck**\n",
    "\n",
    "**Example:**  \n",
    "\n",
    "f(x) = sin(x)\n",
    "\n",
    "---\n",
    "\n",
    "## Notes\n",
    "\n",
    "- Linear Regression, Logistic Regression have convex cost functions → easy to optimize.\n",
    "- Neural Networks have non-convex loss functions → hard to optimize, but techniques like **SGD, momentum, and Adam** help.\n",
    "\n",
    "---\n"
   ]
  },
  {
   "cell_type": "markdown",
   "id": "3bb4915d-c389-45e6-997a-97150747c33c",
   "metadata": {},
   "source": [
    "# ✅ **Sigmoid Function**"
   ]
  },
  {
   "cell_type": "code",
   "execution_count": 21,
   "id": "6351a3bb-825d-4c0d-9e47-b4d650fe44c9",
   "metadata": {
    "jupyter": {
     "source_hidden": true
    }
   },
   "outputs": [
    {
     "data": {
      "text/html": [
       "\n",
       "<div style=\"display: flex; justify-content: center; gap: 20px;\">\n",
       "    <div>\n",
       "        <img src=\"Screenshots/SF.png\" style=\"width: 500px;\"/><br>   \n",
       "    </div>\n",
       "    \n",
       "</div>\n"
      ],
      "text/plain": [
       "<IPython.core.display.HTML object>"
      ]
     },
     "metadata": {},
     "output_type": "display_data"
    }
   ],
   "source": [
    "from IPython.display import display, HTML\n",
    "display(HTML(\"\"\"\n",
    "<div style=\"display: flex; justify-content: center; gap: 20px;\">\n",
    "    <div>\n",
    "        <img src=\"Screenshots/SF.png\" style=\"width: 500px;\"/><br>   \n",
    "    </div>\n",
    "    \n",
    "</div>\n",
    "\"\"\"))"
   ]
  },
  {
   "cell_type": "markdown",
   "id": "1e3660ae-c442-4dc9-ba5a-0fb2b89f490c",
   "metadata": {},
   "source": [
    "---\n",
    "# ✅ **Naive Bayes Algorithm**\n",
    "\n",
    "## What is Naive Bayes?\n",
    "\n",
    "- A **classification algorithm** based on **Bayes' Theorem**\n",
    "- Called \"naive\" because it **assumes all features are independent**\n",
    "- Works well for small and **text data** (e.g., spam detection, sentiment analysis)\n",
    "---\n",
    "\n",
    "## Types of Naive Bayes:\n",
    "\n",
    "- Gaussian Naive Bayes: For continuous data\n",
    "- Multinomial Naive Bayes: For word counts (e.g., in text)\n",
    "- Bernoulli Naive Bayes: For binary features (yes/no or 0/1)\n",
    "---"
   ]
  },
  {
   "cell_type": "code",
   "execution_count": 22,
   "id": "f0140b49-43bf-4852-8441-ce9cc7236ea5",
   "metadata": {
    "jupyter": {
     "source_hidden": true
    }
   },
   "outputs": [
    {
     "data": {
      "text/html": [
       "\n",
       "<div style=\"display: flex; justify-content: center; gap: 20px;\">\n",
       "    <div>\n",
       "        <img src=\"Screenshots/BT1.png\" style=\"width: 600px;\"/><br>   \n",
       "    </div>\n",
       "    \n",
       "</div>\n"
      ],
      "text/plain": [
       "<IPython.core.display.HTML object>"
      ]
     },
     "metadata": {},
     "output_type": "display_data"
    }
   ],
   "source": [
    "from IPython.display import display, HTML\n",
    "display(HTML(\"\"\"\n",
    "<div style=\"display: flex; justify-content: center; gap: 20px;\">\n",
    "    <div>\n",
    "        <img src=\"Screenshots/BT1.png\" style=\"width: 600px;\"/><br>   \n",
    "    </div>\n",
    "    \n",
    "</div>\n",
    "\"\"\"))"
   ]
  },
  {
   "cell_type": "code",
   "execution_count": 23,
   "id": "52f10d0a-8d75-4e26-8ac0-934eccaf8a4f",
   "metadata": {
    "jupyter": {
     "source_hidden": true
    }
   },
   "outputs": [
    {
     "data": {
      "text/html": [
       "\n",
       "<div style=\"display: flex; justify-content: center; gap: 20px;\">\n",
       "    <div>\n",
       "        <img src=\"Screenshots/BT2.png\" style=\"width: 600px;\"/><br>   \n",
       "    </div>\n",
       "    \n",
       "</div>\n"
      ],
      "text/plain": [
       "<IPython.core.display.HTML object>"
      ]
     },
     "metadata": {},
     "output_type": "display_data"
    }
   ],
   "source": [
    "from IPython.display import display, HTML\n",
    "display(HTML(\"\"\"\n",
    "<div style=\"display: flex; justify-content: center; gap: 20px;\">\n",
    "    <div>\n",
    "        <img src=\"Screenshots/BT2.png\" style=\"width: 600px;\"/><br>   \n",
    "    </div>\n",
    "    \n",
    "</div>\n",
    "\"\"\"))"
   ]
  },
  {
   "cell_type": "code",
   "execution_count": 24,
   "id": "83960f69-4f6b-49a7-b97c-1c84c7995b7f",
   "metadata": {
    "jupyter": {
     "source_hidden": true
    }
   },
   "outputs": [
    {
     "data": {
      "text/html": [
       "\n",
       "<div style=\"display: flex; justify-content: center; gap: 20px;\">\n",
       "    <div>\n",
       "        <img src=\"Screenshots/BT3.png\" style=\"width: 600px;\"/><br>   \n",
       "    </div>\n",
       "    \n",
       "</div>\n"
      ],
      "text/plain": [
       "<IPython.core.display.HTML object>"
      ]
     },
     "metadata": {},
     "output_type": "display_data"
    }
   ],
   "source": [
    "from IPython.display import display, HTML\n",
    "display(HTML(\"\"\"\n",
    "<div style=\"display: flex; justify-content: center; gap: 20px;\">\n",
    "    <div>\n",
    "        <img src=\"Screenshots/BT3.png\" style=\"width: 600px;\"/><br>   \n",
    "    </div>\n",
    "    \n",
    "</div>\n",
    "\"\"\"))"
   ]
  },
  {
   "cell_type": "markdown",
   "id": "a0eef7d3-e720-4c4f-bfe0-c219f7a1a655",
   "metadata": {},
   "source": [
    "---\n",
    "# ✅ **K-Nearest Neighbors(KNN)**\n",
    "\n",
    "## What is KNN?\n",
    "\n",
    "- KNN = **K-Nearest Neighbors**\n",
    "- Works for **classification** and **regression**\n",
    "- KNN is Non-Parametric algorithm because it doesn’t learn a model instead it just stores the training data.\n",
    "- When asked to predict, it uses distance to find the closest examples — no equation, no training parameters.\n",
    "\n",
    "---\n",
    "\n",
    "## Intuition:\n",
    "\n",
    "- To predict a new point, look at the **K closest points** (neighbors) from the training data using distance metrics.\n",
    "- Use **majority voting** (classification) or **average** (regression)\n",
    "\n",
    "---\n",
    "\n",
    "## Advantages:\n",
    "\n",
    "- Simple and easy to understand\n",
    "- No training time (lazy learner)\n",
    "- Works well on small datasets\n",
    "\n",
    "---\n",
    "\n",
    "## Disadvantages:\n",
    "\n",
    "- Slow for large datasets (needs to compute distance to all points)\n",
    "- Sensitive to outliers\n",
    "- Needs feature normalization\n"
   ]
  },
  {
   "cell_type": "code",
   "execution_count": 25,
   "id": "913b390b-7b9b-47cb-83d5-a4aa60506997",
   "metadata": {
    "jupyter": {
     "source_hidden": true
    }
   },
   "outputs": [
    {
     "data": {
      "text/html": [
       "\n",
       "<div style=\"display: flex; justify-content: center; gap: 20px;\">\n",
       "    <div>\n",
       "        <img src=\"Screenshots/KNN1.png\" style=\"width: 500px;\"/><br>   \n",
       "    </div>\n",
       "    \n",
       "</div>\n"
      ],
      "text/plain": [
       "<IPython.core.display.HTML object>"
      ]
     },
     "metadata": {},
     "output_type": "display_data"
    }
   ],
   "source": [
    "from IPython.display import display, HTML\n",
    "display(HTML(\"\"\"\n",
    "<div style=\"display: flex; justify-content: center; gap: 20px;\">\n",
    "    <div>\n",
    "        <img src=\"Screenshots/KNN1.png\" style=\"width: 500px;\"/><br>   \n",
    "    </div>\n",
    "    \n",
    "</div>\n",
    "\"\"\"))"
   ]
  },
  {
   "cell_type": "markdown",
   "id": "c218e55c-be07-4ff7-a421-2e21c96251e2",
   "metadata": {},
   "source": [
    "---\n",
    "# ✅ **Distance Metrics**"
   ]
  },
  {
   "cell_type": "code",
   "execution_count": 26,
   "id": "109611c7-277c-4f40-a4d6-af1a6765edbb",
   "metadata": {
    "jupyter": {
     "source_hidden": true
    }
   },
   "outputs": [
    {
     "data": {
      "text/html": [
       "\n",
       "<div style=\"display: flex; justify-content: center; gap: 20px;\">\n",
       "    <div>\n",
       "        <img src=\"Screenshots/DM1.png\" style=\"width: 400px;\"/><br>   \n",
       "    </div>\n",
       "    <div>\n",
       "        <img src=\"Screenshots/DM2.png\" style=\"width: 400px;\"/><br>   \n",
       "    </div>\n",
       "    \n",
       "</div>\n"
      ],
      "text/plain": [
       "<IPython.core.display.HTML object>"
      ]
     },
     "metadata": {},
     "output_type": "display_data"
    }
   ],
   "source": [
    "from IPython.display import display, HTML\n",
    "display(HTML(\"\"\"\n",
    "<div style=\"display: flex; justify-content: center; gap: 20px;\">\n",
    "    <div>\n",
    "        <img src=\"Screenshots/DM1.png\" style=\"width: 400px;\"/><br>   \n",
    "    </div>\n",
    "    <div>\n",
    "        <img src=\"Screenshots/DM2.png\" style=\"width: 400px;\"/><br>   \n",
    "    </div>\n",
    "    \n",
    "</div>\n",
    "\"\"\"))"
   ]
  },
  {
   "cell_type": "markdown",
   "id": "18b19d30-cfa6-42d6-add0-694220d4e9d6",
   "metadata": {},
   "source": [
    "---\n",
    "# ✅ **Support Vector Machine**\n",
    "\n",
    "Please visit below link for SVM (SVC and SVR)\n",
    "\n",
    "https://github.com/atharparvezce/Complete_ML_Notes/blob/main/Screenshots/SVR%20Algorithms.pdf"
   ]
  },
  {
   "cell_type": "markdown",
   "id": "f04103b1-1fda-4a0c-9317-52703cd4df45",
   "metadata": {},
   "source": [
    "---\n",
    "# ✅ **Kernels**\n",
    "\n",
    "## What are Kernels?\n",
    "\n",
    "Kernels are functions used in Machine Learning (especially in SVM) to:\n",
    "\n",
    "> **Transform data into higher dimensions** to make it easier to classify using linear methods.\n",
    "\n",
    "They help solve problems where the data is **not linearly separable** in its original space.\n",
    "\n",
    "---\n",
    "\n",
    "## Why Do We Need Kernels?\n",
    "\n",
    "Some datasets can't be separated by a straight line (or hyperplane) in their current space.\n",
    "\n",
    "**Kernels** allow us to implicitly map them to a **higher-dimensional space** where separation **is possible**, without computing that transformation directly.\n",
    "\n",
    "---"
   ]
  },
  {
   "cell_type": "code",
   "execution_count": 27,
   "id": "c70be2c6-398f-4f69-bd21-06757be0bddc",
   "metadata": {
    "jupyter": {
     "source_hidden": true
    }
   },
   "outputs": [
    {
     "data": {
      "text/html": [
       "\n",
       "<div style=\"display: flex; justify-content: center; gap: 20px;\">\n",
       "    <div>\n",
       "        <img src=\"Screenshots/Kernel1.png\" style=\"width: 500px;\"/><br>   \n",
       "    </div>\n",
       "    <div>\n",
       "        <img src=\"Screenshots/Kernel2.png\" style=\"width: 500px;\"/><br>   \n",
       "    </div>\n",
       "    \n",
       "</div>\n"
      ],
      "text/plain": [
       "<IPython.core.display.HTML object>"
      ]
     },
     "metadata": {},
     "output_type": "display_data"
    }
   ],
   "source": [
    "from IPython.display import display, HTML\n",
    "display(HTML(\"\"\"\n",
    "<div style=\"display: flex; justify-content: center; gap: 20px;\">\n",
    "    <div>\n",
    "        <img src=\"Screenshots/Kernel1.png\" style=\"width: 500px;\"/><br>   \n",
    "    </div>\n",
    "    <div>\n",
    "        <img src=\"Screenshots/Kernel2.png\" style=\"width: 500px;\"/><br>   \n",
    "    </div>\n",
    "    \n",
    "</div>\n",
    "\"\"\"))"
   ]
  },
  {
   "cell_type": "markdown",
   "id": "decae8ab-1f9b-4253-99c4-96482c653762",
   "metadata": {},
   "source": [
    "---\n",
    "## Summary\n",
    "\n",
    "- Kernels help convert **non-linear problems** into **linear ones** in higher dimensions.\n",
    "- Used heavily in **SVM**, **Kernel PCA**, etc.\n",
    "- **Kernel Trick** avoids expensive computations.\n",
    "- Make ML models more powerful with less manual feature engineering.\n",
    "\n",
    "---"
   ]
  },
  {
   "cell_type": "markdown",
   "id": "31b69fb6-a5d8-433b-863c-11d91a9d20ba",
   "metadata": {},
   "source": [
    "# ✅ **Decision Tree**\n",
    "\n",
    "For hand notes please see below link\n",
    "\n",
    "https://github.com/atharparvezce/Complete_ML_Notes/blob/main/Screenshots/decision%20tree.pdf"
   ]
  },
  {
   "cell_type": "code",
   "execution_count": 28,
   "id": "c5ef417b-36ea-406f-9af0-631dd23335f4",
   "metadata": {
    "jupyter": {
     "source_hidden": true
    }
   },
   "outputs": [
    {
     "data": {
      "text/html": [
       "\n",
       "<div style=\"display: flex; justify-content: center; gap: 20px;\">\n",
       "    <div>\n",
       "        <img src=\"Screenshots/DT1.png\" style=\"width: 800px;\"/><br>   \n",
       "    </div>\n",
       "</div>\n"
      ],
      "text/plain": [
       "<IPython.core.display.HTML object>"
      ]
     },
     "metadata": {},
     "output_type": "display_data"
    }
   ],
   "source": [
    "from IPython.display import display, HTML\n",
    "display(HTML(\"\"\"\n",
    "<div style=\"display: flex; justify-content: center; gap: 20px;\">\n",
    "    <div>\n",
    "        <img src=\"Screenshots/DT1.png\" style=\"width: 800px;\"/><br>   \n",
    "    </div>\n",
    "</div>\n",
    "\"\"\"))"
   ]
  },
  {
   "cell_type": "code",
   "execution_count": 29,
   "id": "ea65454c-36a2-4471-80b3-f21d2e91b056",
   "metadata": {
    "jupyter": {
     "source_hidden": true
    }
   },
   "outputs": [
    {
     "data": {
      "text/html": [
       "\n",
       "<div style=\"display: flex; justify-content: center; gap: 20px;\">\n",
       "    <div>\n",
       "        <img src=\"Screenshots/DT2.png\" style=\"width: 800px;\"/><br>   \n",
       "    </div>\n",
       "</div>\n"
      ],
      "text/plain": [
       "<IPython.core.display.HTML object>"
      ]
     },
     "metadata": {},
     "output_type": "display_data"
    }
   ],
   "source": [
    "from IPython.display import display, HTML\n",
    "display(HTML(\"\"\"\n",
    "<div style=\"display: flex; justify-content: center; gap: 20px;\">\n",
    "    <div>\n",
    "        <img src=\"Screenshots/DT2.png\" style=\"width: 800px;\"/><br>   \n",
    "    </div>\n",
    "</div>\n",
    "\"\"\"))"
   ]
  },
  {
   "cell_type": "code",
   "execution_count": 30,
   "id": "a108380b-ac70-4972-a209-6c1dad8496e6",
   "metadata": {
    "jupyter": {
     "source_hidden": true
    }
   },
   "outputs": [
    {
     "data": {
      "text/html": [
       "\n",
       "<div style=\"display: flex; justify-content: center; gap: 20px;\">\n",
       "    <div>\n",
       "        <img src=\"Screenshots/DT3.png\" style=\"width: 800px;\"/><br>   \n",
       "    </div>\n",
       "</div>\n"
      ],
      "text/plain": [
       "<IPython.core.display.HTML object>"
      ]
     },
     "metadata": {},
     "output_type": "display_data"
    }
   ],
   "source": [
    "from IPython.display import display, HTML\n",
    "display(HTML(\"\"\"\n",
    "<div style=\"display: flex; justify-content: center; gap: 20px;\">\n",
    "    <div>\n",
    "        <img src=\"Screenshots/DT3.png\" style=\"width: 800px;\"/><br>   \n",
    "    </div>\n",
    "</div>\n",
    "\"\"\"))"
   ]
  },
  {
   "cell_type": "code",
   "execution_count": 31,
   "id": "e9c65423-bf3b-47aa-973e-562f495a467d",
   "metadata": {
    "jupyter": {
     "source_hidden": true
    }
   },
   "outputs": [
    {
     "data": {
      "text/html": [
       "\n",
       "<div style=\"display: flex; justify-content: center; gap: 20px;\">\n",
       "    <div>\n",
       "        <img src=\"Screenshots/DT4.png\" style=\"width: 800px;\"/><br>   \n",
       "    </div>\n",
       "</div>\n"
      ],
      "text/plain": [
       "<IPython.core.display.HTML object>"
      ]
     },
     "metadata": {},
     "output_type": "display_data"
    }
   ],
   "source": [
    "from IPython.display import display, HTML\n",
    "display(HTML(\"\"\"\n",
    "<div style=\"display: flex; justify-content: center; gap: 20px;\">\n",
    "    <div>\n",
    "        <img src=\"Screenshots/DT4.png\" style=\"width: 800px;\"/><br>   \n",
    "    </div>\n",
    "</div>\n",
    "\"\"\"))"
   ]
  },
  {
   "cell_type": "code",
   "execution_count": 32,
   "id": "5c05542d-1690-4c51-afd6-dbdc42da57fd",
   "metadata": {
    "jupyter": {
     "source_hidden": true
    }
   },
   "outputs": [
    {
     "data": {
      "text/html": [
       "\n",
       "<div style=\"display: flex; justify-content: center; gap: 20px;\">\n",
       "    <div>\n",
       "        <img src=\"Screenshots/DT5.png\" style=\"width: 800px;\"/><br>   \n",
       "    </div>\n",
       "</div>\n"
      ],
      "text/plain": [
       "<IPython.core.display.HTML object>"
      ]
     },
     "metadata": {},
     "output_type": "display_data"
    }
   ],
   "source": [
    "from IPython.display import display, HTML\n",
    "display(HTML(\"\"\"\n",
    "<div style=\"display: flex; justify-content: center; gap: 20px;\">\n",
    "    <div>\n",
    "        <img src=\"Screenshots/DT5.png\" style=\"width: 800px;\"/><br>   \n",
    "    </div>\n",
    "</div>\n",
    "\"\"\"))"
   ]
  },
  {
   "cell_type": "code",
   "execution_count": 33,
   "id": "1d9c3d1d-47ce-4dea-af27-025913dab58a",
   "metadata": {
    "jupyter": {
     "source_hidden": true
    }
   },
   "outputs": [
    {
     "data": {
      "text/html": [
       "\n",
       "<div style=\"display: flex; justify-content: center; gap: 20px;\">\n",
       "    <div>\n",
       "        <img src=\"Screenshots/DT6.png\" style=\"width: 800px;\"/><br>   \n",
       "    </div>\n",
       "</div>\n"
      ],
      "text/plain": [
       "<IPython.core.display.HTML object>"
      ]
     },
     "metadata": {},
     "output_type": "display_data"
    }
   ],
   "source": [
    "from IPython.display import display, HTML\n",
    "display(HTML(\"\"\"\n",
    "<div style=\"display: flex; justify-content: center; gap: 20px;\">\n",
    "    <div>\n",
    "        <img src=\"Screenshots/DT6.png\" style=\"width: 800px;\"/><br>   \n",
    "    </div>\n",
    "</div>\n",
    "\"\"\"))"
   ]
  },
  {
   "cell_type": "code",
   "execution_count": 34,
   "id": "ea0a3ee3-4b18-4fa6-a36a-d3a06cfcb8a6",
   "metadata": {
    "jupyter": {
     "source_hidden": true
    }
   },
   "outputs": [
    {
     "data": {
      "text/html": [
       "\n",
       "<div style=\"display: flex; justify-content: center; gap: 20px;\">\n",
       "    <div>\n",
       "        <img src=\"Screenshots/DT7.png\" style=\"width: 800px;\"/><br>   \n",
       "    </div>\n",
       "</div>\n"
      ],
      "text/plain": [
       "<IPython.core.display.HTML object>"
      ]
     },
     "metadata": {},
     "output_type": "display_data"
    }
   ],
   "source": [
    "from IPython.display import display, HTML\n",
    "display(HTML(\"\"\"\n",
    "<div style=\"display: flex; justify-content: center; gap: 20px;\">\n",
    "    <div>\n",
    "        <img src=\"Screenshots/DT7.png\" style=\"width: 800px;\"/><br>   \n",
    "    </div>\n",
    "</div>\n",
    "\"\"\"))"
   ]
  },
  {
   "cell_type": "markdown",
   "id": "94184734-f0a8-4542-a9de-da4dafc28cd3",
   "metadata": {},
   "source": [
    "---\n",
    "\n",
    "# ✅ **Ensemble Techniques**\n",
    "\n",
    "**Ensemble methods** combine predictions from multiple models to improve accuracy and robustness.  \n",
    "> “A group of weak learners can come together to form a strong learner.”\n",
    "\n",
    "---\n",
    "\n",
    "## Types of Ensemble Techniques\n",
    "\n",
    "### 1. Bagging (Bootstrap Aggregating)\n",
    "\n",
    "- **Goal**: Reduce **variance** and avoid overfitting.\n",
    "- **How it works**:\n",
    "  - Train multiple models (usually of the same type) in **parallel**.\n",
    "  - Each model is trained on a **random subset** of the data (with replacement).\n",
    "  - Final prediction is made by **averaging** (regression) or **voting** (classification).\n",
    "\n",
    "**Popular Bagging Algorithms:**\n",
    "\n",
    "- Random Forest\n",
    "- Bagged Decision Trees\n",
    "- Extra Trees (Extremely Randomized Trees)\n",
    "\n",
    "---\n",
    "\n",
    "### 2. Boosting\n",
    "\n",
    "- **Goal**: Reduce **bias** and improve model performance.\n",
    "- **How it works**:\n",
    "  - Models are trained **sequentially**.\n",
    "  - Each new model focuses on **correcting the errors** of the previous one.\n",
    "  - Final prediction is a **weighted combination** of all models.\n",
    "\n",
    "**Popular Boosting Algorithms:**\n",
    "\n",
    "- AdaBoost (Adaptive Boosting)\n",
    "- Gradient Boosting Machines (GBM)\n",
    "- XGBoost (Extreme Gradient Boosting)\n",
    "- LightGBM\n",
    "- CatBoost\n",
    "---\n"
   ]
  },
  {
   "cell_type": "markdown",
   "id": "0e6afbc6-c5da-4234-bbac-7a56b9920fe9",
   "metadata": {},
   "source": [
    "# ✅ **Random Forest (RF)**\n",
    "\n",
    "Random Forest is an ensemble learning method that builds many decision trees and combines their results to make better predictions.\n",
    "\n",
    "\n",
    "- It uses Bagging (Bootstrap Aggregating).\n",
    "- Each tree is trained on a random subset of the data.\n",
    "- It also selects random features for splitting at each node.\n",
    "- Final prediction is made by:\n",
    "- Majority vote (for classification)\n",
    "- Average (for regression)\n",
    "\n",
    "---\n",
    "\n",
    "## Why Use Random Forest?\n",
    "\n",
    "- More accurate than a single decision tree.\n",
    "- Handles missing data and non-linear relationships well.\n",
    "- Reduces overfitting.\n",
    "\n",
    "---\n",
    "\n",
    "## Note:-\n",
    "\n",
    "| Concept           | Description                                                  |\n",
    "|-------------------|--------------------------------------------------------------|\n",
    "| Row Sampling      | Random rows selected with replacement for each tree          |\n",
    "| Feature Sampling  | Random subset of features used at each split                 |\n",
    "| OOB Samples       | Data not used to train a specific tree                       |\n",
    "| OOB Score         | Accuracy on OOB samples, used to evaluate model performance  |\n",
    "\n",
    "---\n"
   ]
  },
  {
   "cell_type": "markdown",
   "id": "6ca48323-07cb-4270-8e20-7133b8b72448",
   "metadata": {},
   "source": [
    "# ✅ **Important Automatic EDA Libraries**\n",
    "\n",
    "---\n",
    "\n",
    "## 1. Pandas Profiling\n",
    "- Generates a **detailed report** from a DataFrame.\n",
    "- Includes **statistics**, **missing values**, **correlations**, and **data types**.\n",
    "- Output: Interactive HTML report.\n",
    "- Best for: Quick, **in-depth overview** of your dataset.\n",
    "\n",
    "---\n",
    "\n",
    "## 2. AutoViz\n",
    "- Automatically visualizes any dataset with **minimal code**.\n",
    "- Handles **CSV files, DataFrames**, and **large datasets**.\n",
    "- Creates **histograms, scatter plots, box plots**, etc.\n",
    "- Best for: **Automated visual EDA** with minimal setup.\n",
    "\n",
    "---\n",
    "\n",
    "## 3. SweetViz\n",
    "- Creates **beautiful, high-contrast visual reports**.\n",
    "- Compares **training vs testing data**.\n",
    "- Highlights **target relationships** and **data insights**.\n",
    "- Best for: **Comparative analysis** and **presentation-ready visuals**.\n",
    "\n",
    "---\n",
    "\n",
    "## 4. D-Tale\n",
    "- Combines **Pandas + Flask + React** to give a **GUI** for DataFrames.\n",
    "- Lets you **interact, filter, sort, and visualize** data in your browser.\n",
    "- Best for: **Interactive exploration** without writing code.\n",
    "\n",
    "---"
   ]
  },
  {
   "cell_type": "markdown",
   "id": "da62f7f2-ef70-423a-9fad-d1e060ccb833",
   "metadata": {},
   "source": [
    "# ✅ **AdaBoost Algorithm**\n",
    "\n",
    "AdaBoost builds a strong classifier by sequentially training weak classifiers (typically decision stumps—trees with one split), each focusing more on the instances misclassified by previous ones. It assigns weights to training samples and updates them iteratively to emphasize harder examples."
   ]
  },
  {
   "cell_type": "code",
   "execution_count": 35,
   "id": "7d12bcce-7435-4030-9528-7b1de64c1c7c",
   "metadata": {
    "jupyter": {
     "source_hidden": true
    }
   },
   "outputs": [
    {
     "data": {
      "text/html": [
       "\n",
       "<div style=\"display: flex; justify-content: center; gap: 20px;\">\n",
       "    <div>\n",
       "        <img src=\"Screenshots/AD1.png\" style=\"width: 800px;\"/><br>   \n",
       "    </div>\n",
       "    <div>\n",
       "        <img src=\"Screenshots/AD2.png\" style=\"width: 800px;\"/><br>   \n",
       "    </div>\n",
       "</div>\n"
      ],
      "text/plain": [
       "<IPython.core.display.HTML object>"
      ]
     },
     "metadata": {},
     "output_type": "display_data"
    }
   ],
   "source": [
    "from IPython.display import display, HTML\n",
    "display(HTML(\"\"\"\n",
    "<div style=\"display: flex; justify-content: center; gap: 20px;\">\n",
    "    <div>\n",
    "        <img src=\"Screenshots/AD1.png\" style=\"width: 800px;\"/><br>   \n",
    "    </div>\n",
    "    <div>\n",
    "        <img src=\"Screenshots/AD2.png\" style=\"width: 800px;\"/><br>   \n",
    "    </div>\n",
    "</div>\n",
    "\"\"\"))"
   ]
  },
  {
   "cell_type": "code",
   "execution_count": 36,
   "id": "64f7bf45-2d38-4a3f-ae7e-b324e9869d64",
   "metadata": {
    "jupyter": {
     "source_hidden": true
    }
   },
   "outputs": [
    {
     "data": {
      "text/html": [
       "\n",
       "<div style=\"display: flex; justify-content: center; gap: 20px;\">\n",
       "    <div>\n",
       "        <img src=\"Screenshots/AD3.png\" style=\"width: 800px;\"/><br>   \n",
       "    </div>\n",
       "    <div>\n",
       "        <img src=\"Screenshots/AD5.png\" style=\"width: 800px;\"/><br>   \n",
       "    </div>\n",
       "</div>\n"
      ],
      "text/plain": [
       "<IPython.core.display.HTML object>"
      ]
     },
     "metadata": {},
     "output_type": "display_data"
    }
   ],
   "source": [
    "from IPython.display import display, HTML\n",
    "display(HTML(\"\"\"\n",
    "<div style=\"display: flex; justify-content: center; gap: 20px;\">\n",
    "    <div>\n",
    "        <img src=\"Screenshots/AD3.png\" style=\"width: 800px;\"/><br>   \n",
    "    </div>\n",
    "    <div>\n",
    "        <img src=\"Screenshots/AD5.png\" style=\"width: 800px;\"/><br>   \n",
    "    </div>\n",
    "</div>\n",
    "\"\"\"))"
   ]
  },
  {
   "cell_type": "code",
   "execution_count": 37,
   "id": "af4adea7-794a-4ca2-8bdf-8c751bf9d458",
   "metadata": {
    "jupyter": {
     "source_hidden": true
    }
   },
   "outputs": [
    {
     "data": {
      "text/html": [
       "\n",
       "<div style=\"display: flex; justify-content: center; gap: 20px;\">\n",
       "    <div>\n",
       "        <img src=\"Screenshots/AD6.png\" style=\"width: 800px;\"/><br>   \n",
       "    </div>\n",
       "    <div>\n",
       "        <img src=\"Screenshots/AD7.png\" style=\"width: 800px;\"/><br>   \n",
       "    </div>\n",
       "</div>\n"
      ],
      "text/plain": [
       "<IPython.core.display.HTML object>"
      ]
     },
     "metadata": {},
     "output_type": "display_data"
    }
   ],
   "source": [
    "from IPython.display import display, HTML\n",
    "display(HTML(\"\"\"\n",
    "<div style=\"display: flex; justify-content: center; gap: 20px;\">\n",
    "    <div>\n",
    "        <img src=\"Screenshots/AD6.png\" style=\"width: 800px;\"/><br>   \n",
    "    </div>\n",
    "    <div>\n",
    "        <img src=\"Screenshots/AD7.png\" style=\"width: 800px;\"/><br>   \n",
    "    </div>\n",
    "</div>\n",
    "\"\"\"))"
   ]
  },
  {
   "cell_type": "code",
   "execution_count": 38,
   "id": "44b0ba5e-d42c-413f-91c2-e99ecac01d70",
   "metadata": {
    "jupyter": {
     "source_hidden": true
    }
   },
   "outputs": [
    {
     "data": {
      "text/html": [
       "\n",
       "<div style=\"display: flex; justify-content: center; gap: 20px;\">\n",
       "    <div>\n",
       "        <img src=\"Screenshots/AD8.png\" style=\"width: 800px;\"/><br>   \n",
       "    </div>\n",
       "    <div>\n",
       "        <img src=\"Screenshots/AD9.png\" style=\"width: 800px;\"/><br>   \n",
       "    </div>\n",
       "</div>\n"
      ],
      "text/plain": [
       "<IPython.core.display.HTML object>"
      ]
     },
     "metadata": {},
     "output_type": "display_data"
    }
   ],
   "source": [
    "from IPython.display import display, HTML\n",
    "display(HTML(\"\"\"\n",
    "<div style=\"display: flex; justify-content: center; gap: 20px;\">\n",
    "    <div>\n",
    "        <img src=\"Screenshots/AD8.png\" style=\"width: 800px;\"/><br>   \n",
    "    </div>\n",
    "    <div>\n",
    "        <img src=\"Screenshots/AD9.png\" style=\"width: 800px;\"/><br>   \n",
    "    </div>\n",
    "</div>\n",
    "\"\"\"))"
   ]
  },
  {
   "cell_type": "code",
   "execution_count": 39,
   "id": "c58f6553-9fa7-48d2-b2ed-ef31e5e47e2e",
   "metadata": {
    "jupyter": {
     "source_hidden": true
    }
   },
   "outputs": [
    {
     "data": {
      "text/html": [
       "\n",
       "<div style=\"display: flex; justify-content: center; gap: 20px;\">\n",
       "    <div>\n",
       "        <img src=\"Screenshots/AD10.png\" style=\"width: 500px;\"/><br>   \n",
       "    </div>\n",
       "</div>\n"
      ],
      "text/plain": [
       "<IPython.core.display.HTML object>"
      ]
     },
     "metadata": {},
     "output_type": "display_data"
    }
   ],
   "source": [
    "from IPython.display import display, HTML\n",
    "display(HTML(\"\"\"\n",
    "<div style=\"display: flex; justify-content: center; gap: 20px;\">\n",
    "    <div>\n",
    "        <img src=\"Screenshots/AD10.png\" style=\"width: 500px;\"/><br>   \n",
    "    </div>\n",
    "</div>\n",
    "\"\"\"))"
   ]
  },
  {
   "cell_type": "markdown",
   "id": "7ac0345b-bbbe-4b4a-9a16-815c03b37969",
   "metadata": {},
   "source": [
    "---\n",
    "# ✅ **Gradient Boosting Algorithm**\n",
    "\n",
    "Gradient Boosting is a powerful machine learning technique used for both classification and regression tasks. It builds a strong model by combining many weak models, usually decision trees, in a sequential way.\n",
    "\n",
    "- The core idea is:\n",
    "\n",
    "\"Train models one after another, each trying to fix the mistakes made by the previous ones.\"\n",
    "Instead of adjusting weights like AdaBoost, Gradient Boosting learns from the errors (residuals) of the previous model using gradient descent."
   ]
  },
  {
   "cell_type": "code",
   "execution_count": 40,
   "id": "97bd7850-d605-4df0-b17b-5061591acfea",
   "metadata": {
    "jupyter": {
     "source_hidden": true
    }
   },
   "outputs": [
    {
     "data": {
      "text/html": [
       "\n",
       "<div style=\"display: flex; justify-content: center; gap: 20px;\">\n",
       "    <div>\n",
       "        <img src=\"Screenshots/GB1.png\" style=\"width: 500px;\"/><br>   \n",
       "    </div>\n",
       "    <div>\n",
       "        <img src=\"Screenshots/GB2.png\" style=\"width: 500px;\"/><br>   \n",
       "    </div>\n",
       "</div>\n"
      ],
      "text/plain": [
       "<IPython.core.display.HTML object>"
      ]
     },
     "metadata": {},
     "output_type": "display_data"
    }
   ],
   "source": [
    "from IPython.display import display, HTML\n",
    "display(HTML(\"\"\"\n",
    "<div style=\"display: flex; justify-content: center; gap: 20px;\">\n",
    "    <div>\n",
    "        <img src=\"Screenshots/GB1.png\" style=\"width: 500px;\"/><br>   \n",
    "    </div>\n",
    "    <div>\n",
    "        <img src=\"Screenshots/GB2.png\" style=\"width: 500px;\"/><br>   \n",
    "    </div>\n",
    "</div>\n",
    "\"\"\"))"
   ]
  },
  {
   "cell_type": "code",
   "execution_count": 41,
   "id": "7c851087-ea30-4530-a277-65fce5017d91",
   "metadata": {
    "jupyter": {
     "source_hidden": true
    }
   },
   "outputs": [
    {
     "data": {
      "text/html": [
       "\n",
       "<div style=\"display: flex; justify-content: center; gap: 20px;\">\n",
       "    <div>\n",
       "        <img src=\"Screenshots/GB3.png\" style=\"width: 500px;\"/><br>   \n",
       "    </div>\n",
       "    <div>\n",
       "        <img src=\"Screenshots/GB4.png\" style=\"width: 500px;\"/><br>   \n",
       "    </div>\n",
       "</div>\n"
      ],
      "text/plain": [
       "<IPython.core.display.HTML object>"
      ]
     },
     "metadata": {},
     "output_type": "display_data"
    }
   ],
   "source": [
    "from IPython.display import display, HTML\n",
    "display(HTML(\"\"\"\n",
    "<div style=\"display: flex; justify-content: center; gap: 20px;\">\n",
    "    <div>\n",
    "        <img src=\"Screenshots/GB3.png\" style=\"width: 500px;\"/><br>   \n",
    "    </div>\n",
    "    <div>\n",
    "        <img src=\"Screenshots/GB4.png\" style=\"width: 500px;\"/><br>   \n",
    "    </div>\n",
    "</div>\n",
    "\"\"\"))"
   ]
  },
  {
   "cell_type": "code",
   "execution_count": 42,
   "id": "542f5a33-81ed-419f-a83f-382ec1c8045e",
   "metadata": {
    "jupyter": {
     "source_hidden": true
    }
   },
   "outputs": [
    {
     "data": {
      "text/html": [
       "\n",
       "<div style=\"display: flex; justify-content: center; gap: 20px;\">\n",
       "    <div>\n",
       "        <img src=\"Screenshots/GB5.png\" style=\"width: 500px;\"/><br>   \n",
       "    </div>\n",
       "    <div>\n",
       "        <img src=\"Screenshots/GB6.png\" style=\"width: 500px;\"/><br>   \n",
       "    </div>\n",
       "</div>\n"
      ],
      "text/plain": [
       "<IPython.core.display.HTML object>"
      ]
     },
     "metadata": {},
     "output_type": "display_data"
    }
   ],
   "source": [
    "from IPython.display import display, HTML\n",
    "display(HTML(\"\"\"\n",
    "<div style=\"display: flex; justify-content: center; gap: 20px;\">\n",
    "    <div>\n",
    "        <img src=\"Screenshots/GB5.png\" style=\"width: 500px;\"/><br>   \n",
    "    </div>\n",
    "    <div>\n",
    "        <img src=\"Screenshots/GB6.png\" style=\"width: 500px;\"/><br>   \n",
    "    </div>\n",
    "</div>\n",
    "\"\"\"))"
   ]
  },
  {
   "cell_type": "code",
   "execution_count": 43,
   "id": "7be85374-6ca1-40fa-888f-ecdec6229562",
   "metadata": {
    "jupyter": {
     "source_hidden": true
    }
   },
   "outputs": [
    {
     "data": {
      "text/html": [
       "\n",
       "<div style=\"display: flex; justify-content: center; gap: 20px;\">\n",
       "    <div>\n",
       "        <img src=\"Screenshots/GB7.png\" style=\"width: 500px;\"/><br>   \n",
       "    </div>\n",
       "</div>\n"
      ],
      "text/plain": [
       "<IPython.core.display.HTML object>"
      ]
     },
     "metadata": {},
     "output_type": "display_data"
    }
   ],
   "source": [
    "from IPython.display import display, HTML\n",
    "display(HTML(\"\"\"\n",
    "<div style=\"display: flex; justify-content: center; gap: 20px;\">\n",
    "    <div>\n",
    "        <img src=\"Screenshots/GB7.png\" style=\"width: 500px;\"/><br>   \n",
    "    </div>\n",
    "</div>\n",
    "\"\"\"))"
   ]
  },
  {
   "cell_type": "markdown",
   "id": "5ba2b3c5-dba8-49c7-aee7-ad03ce0c6d7d",
   "metadata": {},
   "source": [
    "---\n",
    "# ✅ **K-Means Clustering (Unsupervised Learning)**\n",
    "\n",
    "---\n",
    "\n",
    "- K-Means is an **unsupervised algorithm** used for **clustering**.\n",
    "- It groups data into **K clusters** based on similarity.\n",
    "- Each cluster has a **centroid** (center point).\n",
    "- Goal: **Minimize the distance** between points and their cluster center.\n",
    "\n",
    "---\n",
    "\n",
    "##  Algorithm Steps:"
   ]
  },
  {
   "cell_type": "code",
   "execution_count": 46,
   "id": "e91ca843-0b73-4486-8f9b-f581039f7b09",
   "metadata": {
    "jupyter": {
     "source_hidden": true
    }
   },
   "outputs": [
    {
     "data": {
      "text/html": [
       "\n",
       "<div style=\"display: flex; justify-content: center; gap: 20px;\">\n",
       "    <div>\n",
       "        <img src=\"Screenshots/KMeans1.png\" style=\"width: 500px;\"/><br>   \n",
       "    </div>   \n",
       "</div>\n"
      ],
      "text/plain": [
       "<IPython.core.display.HTML object>"
      ]
     },
     "metadata": {},
     "output_type": "display_data"
    }
   ],
   "source": [
    "from IPython.display import display, HTML\n",
    "display(HTML(\"\"\"\n",
    "<div style=\"display: flex; justify-content: center; gap: 20px;\">\n",
    "    <div>\n",
    "        <img src=\"Screenshots/KMeans1.png\" style=\"width: 500px;\"/><br>   \n",
    "    </div>   \n",
    "</div>\n",
    "\"\"\"))"
   ]
  },
  {
   "cell_type": "code",
   "execution_count": 49,
   "id": "3df47228-6f8f-4931-869b-1e3995279bda",
   "metadata": {
    "jupyter": {
     "source_hidden": true
    }
   },
   "outputs": [
    {
     "data": {
      "text/html": [
       "\n",
       "<div style=\"display: flex; justify-content: center; gap: 20px;\">\n",
       "    <div>\n",
       "        <img src=\"Screenshots/KMeans2.png\" style=\"width: 500px;\"/><br>   \n",
       "    </div>   \n",
       "</div>\n"
      ],
      "text/plain": [
       "<IPython.core.display.HTML object>"
      ]
     },
     "metadata": {},
     "output_type": "display_data"
    }
   ],
   "source": [
    "from IPython.display import display, HTML\n",
    "display(HTML(\"\"\"\n",
    "<div style=\"display: flex; justify-content: center; gap: 20px;\">\n",
    "    <div>\n",
    "        <img src=\"Screenshots/KMeans2.png\" style=\"width: 500px;\"/><br>   \n",
    "    </div>   \n",
    "</div>\n",
    "\"\"\"))"
   ]
  },
  {
   "cell_type": "code",
   "execution_count": 51,
   "id": "4d9ff2f1-758e-4d81-8229-faa1ac6c1b67",
   "metadata": {
    "jupyter": {
     "source_hidden": true
    }
   },
   "outputs": [
    {
     "data": {
      "text/html": [
       "\n",
       "<div style=\"display: flex; justify-content: center; gap: 20px;\">\n",
       "    <div>\n",
       "        <img src=\"Screenshots/KMeans3.png\" style=\"width: 500px;\"/><br>   \n",
       "    </div>   \n",
       "</div>\n"
      ],
      "text/plain": [
       "<IPython.core.display.HTML object>"
      ]
     },
     "metadata": {},
     "output_type": "display_data"
    }
   ],
   "source": [
    "from IPython.display import display, HTML\n",
    "display(HTML(\"\"\"\n",
    "<div style=\"display: flex; justify-content: center; gap: 20px;\">\n",
    "    <div>\n",
    "        <img src=\"Screenshots/KMeans3.png\" style=\"width: 500px;\"/><br>   \n",
    "    </div>   \n",
    "</div>\n",
    "\"\"\"))"
   ]
  },
  {
   "cell_type": "markdown",
   "id": "1580aa2a-b573-4c6c-9758-d52c01ddbee6",
   "metadata": {},
   "source": [
    "- **Note:-** WCSS and Inertia are same\n",
    "---"
   ]
  },
  {
   "cell_type": "markdown",
   "id": "98f34842-499a-427e-aabd-ab80eabc8214",
   "metadata": {},
   "source": [
    "# ✅ **Elbow Method**\n",
    "\n",
    "---\n",
    "\n",
    "## What is it?\n",
    "\n",
    "- A method to find the **best number of clusters (K)** in K-Means.\n",
    "- It uses the **WCSS (inertia)** value to decide.\n",
    "\n",
    "---\n",
    "\n",
    "## Key Idea:\n",
    "\n",
    "- As **K increases**, WCSS decreases.\n",
    "- But after a point, adding more clusters doesn't help much.\n",
    "- The point where the curve **bends** (like an elbow) is the best **K**.\n",
    "\n",
    "---\n",
    "\n",
    "## Steps:\n",
    "\n",
    "1. Run K-Means for K = 1 to 10\n",
    "2. Calculate **WCSS (inertia)** for each K\n",
    "3. Plot K vs WCSS\n",
    "4. The \"elbow point\" = optimal K\n",
    "\n",
    "---\n"
   ]
  },
  {
   "cell_type": "markdown",
   "id": "f3ccd229-9493-4ae0-9f74-5c9dd5acb11d",
   "metadata": {},
   "source": [
    "# ✅ **Hierarchical Clustering**\n",
    "\n",
    "---\n",
    "- A clustering algorithm that builds a **tree-like structure** (dendrogram).\n",
    "- You **don’t need to predefine** the number of clusters.\n",
    "- Two types:\n",
    "  - **Agglomerative** (bottom-up)\n",
    "  - **Divisive** (top-down)\n",
    "\n",
    "---\n",
    "\n",
    "## How Agglomerative Clustering Works:\n",
    "\n",
    "1. Start with each point as its own cluster.\n",
    "2. Calculate the **distance** between all clusters.\n",
    "3. **Merge** the two closest clusters.\n",
    "4. Repeat until all points are in one cluster.\n",
    "\n",
    "---"
   ]
  },
  {
   "cell_type": "code",
   "execution_count": 53,
   "id": "bdd2d9ca-02fe-4078-8cf7-348f82bdfd52",
   "metadata": {
    "jupyter": {
     "source_hidden": true
    }
   },
   "outputs": [
    {
     "data": {
      "text/html": [
       "\n",
       "<div style=\"display: flex; justify-content: center; gap: 20px;\">\n",
       "    <div>\n",
       "        <img src=\"Screenshots/HC1.png\" style=\"width: 500px;\"/><br>   \n",
       "    </div>   \n",
       "</div>\n"
      ],
      "text/plain": [
       "<IPython.core.display.HTML object>"
      ]
     },
     "metadata": {},
     "output_type": "display_data"
    }
   ],
   "source": [
    "from IPython.display import display, HTML\n",
    "display(HTML(\"\"\"\n",
    "<div style=\"display: flex; justify-content: center; gap: 20px;\">\n",
    "    <div>\n",
    "        <img src=\"Screenshots/HC1.png\" style=\"width: 500px;\"/><br>   \n",
    "    </div>   \n",
    "</div>\n",
    "\"\"\"))"
   ]
  },
  {
   "cell_type": "markdown",
   "id": "31913410-bba8-45b4-a1f4-9ecd0edd080a",
   "metadata": {},
   "source": [
    "---\n",
    "## Distance Metrics:\n",
    "- Euclidean Distance\n",
    "- Manhattan Distance\n",
    "  \n",
    "---\n",
    "\n",
    "## Output: Dendrogram\n",
    "\n",
    "- A **tree diagram** showing how clusters were merged.\n",
    "- Cut at a specific height to get desired number of clusters.\n",
    "\n",
    "---\n",
    "\n",
    "## Note:\n",
    "\n",
    "> Hierarchical Clustering builds a **nested structure** of clusters based on **distance** and **linkage rules**, shown as a dendrogram.\n",
    "\n",
    "---"
   ]
  },
  {
   "cell_type": "markdown",
   "id": "df7aba44-698b-42db-9a40-09f2a0cd5cbf",
   "metadata": {},
   "source": [
    "# ✅**DBSCAN Clustering**\n",
    "\n",
    "---\n",
    "\n",
    "- An **unsupervised** clustering algorithm based on **density**.\n",
    "- Groups points that are close together and labels low-density points as **noise**.\n",
    "- Works well for **irregular-shaped clusters** and **detecting outliers**.\n",
    "\n",
    "---\n",
    "\n",
    "## Key Terms:\n",
    "\n",
    "- **eps (ε)**: Radius around a point to check neighbors.\n",
    "- **minPts**: Minimum number of points required to form a dense area.\n",
    "- **Core Point**: Has at least `minPts` points in its `eps` neighborhood.\n",
    "- **Border Point**: Less than `minPts` in `eps`, but near a core point.\n",
    "- **Noise**: Not a core or border point.\n",
    "\n",
    "---\n",
    "\n",
    "## Distance Metric:\n",
    "\n",
    "- Euclidean Distance\n",
    "\n",
    "## How DBSCAN Works:\n",
    "\n",
    "1. Pick a random unvisited point.\n",
    "2. If it has **minPts or more** points within `eps`, it becomes a **core point** and a new cluster starts.\n",
    "3. Expand the cluster by finding all **density-reachable** points.\n",
    "4. If a point has too few neighbors, label it as **noise**.\n",
    "5. Repeat for all points.\n",
    "\n",
    "---\n",
    "\n",
    "## Note:\n",
    "\n",
    "> DBSCAN = Density-Based Spatial Clustering of Applications with Noise  \n",
    "> It groups dense regions together and marks sparse points as noise.\n",
    "\n",
    "---\n"
   ]
  },
  {
   "cell_type": "markdown",
   "id": "b08d5143-a5af-44a6-88f2-bb7ab3c438ec",
   "metadata": {},
   "source": [
    "# ✅**Silhouette Score (Clustering Evaluation Metric)**\n",
    "\n",
    "- A metric to measure the quality of clustering.\n",
    "- It tells how well each point fits within its own cluster vs. how far it is from other clusters."
   ]
  },
  {
   "cell_type": "code",
   "execution_count": 54,
   "id": "3e3188e3-67a8-4c6c-a8be-0795c0b57b54",
   "metadata": {
    "jupyter": {
     "source_hidden": true
    }
   },
   "outputs": [
    {
     "data": {
      "text/html": [
       "\n",
       "<div style=\"display: flex; justify-content: center; gap: 20px;\">\n",
       "    <div>\n",
       "        <img src=\"Screenshots/SC1.png\" style=\"width: 800px;\"/><br>   \n",
       "    </div>\n",
       "</div>\n"
      ],
      "text/plain": [
       "<IPython.core.display.HTML object>"
      ]
     },
     "metadata": {},
     "output_type": "display_data"
    }
   ],
   "source": [
    "from IPython.display import display, HTML\n",
    "display(HTML(\"\"\"\n",
    "<div style=\"display: flex; justify-content: center; gap: 20px;\">\n",
    "    <div>\n",
    "        <img src=\"Screenshots/SC1.png\" style=\"width: 800px;\"/><br>   \n",
    "    </div>\n",
    "</div>\n",
    "\"\"\"))"
   ]
  },
  {
   "cell_type": "code",
   "execution_count": 56,
   "id": "a624ae00-a4ee-4555-a7c6-cefc34538b72",
   "metadata": {
    "jupyter": {
     "source_hidden": true
    }
   },
   "outputs": [
    {
     "data": {
      "text/html": [
       "\n",
       "<div style=\"display: flex; justify-content: center; gap: 20px;\">\n",
       "    <div>\n",
       "        <img src=\"Screenshots/SC2.png\" style=\"width: 800px;\"/><br>   \n",
       "    </div>\n",
       "</div>\n"
      ],
      "text/plain": [
       "<IPython.core.display.HTML object>"
      ]
     },
     "metadata": {},
     "output_type": "display_data"
    }
   ],
   "source": [
    "from IPython.display import display, HTML\n",
    "display(HTML(\"\"\"\n",
    "<div style=\"display: flex; justify-content: center; gap: 20px;\">\n",
    "    <div>\n",
    "        <img src=\"Screenshots/SC2.png\" style=\"width: 800px;\"/><br>   \n",
    "    </div>\n",
    "</div>\n",
    "\"\"\"))"
   ]
  },
  {
   "cell_type": "code",
   "execution_count": 57,
   "id": "7c595caa-3a6d-45c9-9507-081f59686c1c",
   "metadata": {
    "jupyter": {
     "source_hidden": true
    }
   },
   "outputs": [
    {
     "data": {
      "text/html": [
       "\n",
       "<div style=\"display: flex; justify-content: center; gap: 20px;\">\n",
       "    <div>\n",
       "        <img src=\"Screenshots/SC3.png\" style=\"width: 800px;\"/><br>   \n",
       "    </div>\n",
       "</div>\n"
      ],
      "text/plain": [
       "<IPython.core.display.HTML object>"
      ]
     },
     "metadata": {},
     "output_type": "display_data"
    }
   ],
   "source": [
    "from IPython.display import display, HTML\n",
    "display(HTML(\"\"\"\n",
    "<div style=\"display: flex; justify-content: center; gap: 20px;\">\n",
    "    <div>\n",
    "        <img src=\"Screenshots/SC3.png\" style=\"width: 800px;\"/><br>   \n",
    "    </div>\n",
    "</div>\n",
    "\"\"\"))"
   ]
  },
  {
   "cell_type": "markdown",
   "id": "f2432692-8c08-4ad2-a1a4-5ec1d61a573c",
   "metadata": {},
   "source": [
    "---\n",
    "## Note:\n",
    "\n",
    "Silhouette Score tells how well a point fits in its own cluster vs. other clusters.\n",
    "\n",
    "---"
   ]
  },
  {
   "cell_type": "markdown",
   "id": "7bab65bb-e8de-4b0b-8dcf-62c2a16d208a",
   "metadata": {},
   "source": [
    "# ✅ **Please visit here for Complete ML by Krish Naik**\n",
    "\n",
    "https://github.com/krishnaik06/Machine-Learning-Algorithms-Materials/tree/main"
   ]
  }
 ],
 "metadata": {
  "kernelspec": {
   "display_name": "Python 3 (ipykernel)",
   "language": "python",
   "name": "python3"
  },
  "language_info": {
   "codemirror_mode": {
    "name": "ipython",
    "version": 3
   },
   "file_extension": ".py",
   "mimetype": "text/x-python",
   "name": "python",
   "nbconvert_exporter": "python",
   "pygments_lexer": "ipython3",
   "version": "3.12.7"
  }
 },
 "nbformat": 4,
 "nbformat_minor": 5
}
